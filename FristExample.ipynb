{
 "cells": [
  {
   "cell_type": "markdown",
   "metadata": {},
   "source": [
    "# Fast Kalman Filter for Temporal-spatial Data Analysis"
   ]
  },
  {
   "cell_type": "markdown",
   "metadata": {},
   "source": [
    "## Tracking a CO$_2$ Plume"
   ]
  },
  {
   "cell_type": "markdown",
   "metadata": {},
   "source": [
    "CO$_2$ from an industrial site can be compressed and injected into a deep saline aquifer for storage. This technology is called __CO$_2$ capture and storage__ or __CCS__, proposed in (TODO) to combat global warming. As CO$_2$ is lighter than the saline water, it may leak through a natural fracture and contanimate the drinking water. Therefore, monitoring and predicting the long term fate of CO$_2$ at the deep aquifer level is crucial as it will provide an early warning for the CO$_2$ leakage. The goal is to __interprete the time-series data recorded in the seismic sensors into spatial maps of a moving CO$_2$ plume.__ A problem very similar to CT scanning widely used in medical imaging.\n"
   ]
  },
  {
   "cell_type": "markdown",
   "metadata": {
    "collapsed": true
   },
   "source": [
    "## Simulating the Movement of CO$_2$ Plume"
   ]
  },
  {
   "cell_type": "markdown",
   "metadata": {},
   "source": [
    "Here is a simulated CO$_2$ plume for $5$ days resulted from injecting $300$ tons of CO$_2$ at a depth of $1657m$.\n",
    "\n",
    "$$ x_{k+1} = f(x_k) + w $$"
   ]
  },
  {
   "cell_type": "markdown",
   "metadata": {
    "collapsed": true
   },
   "source": [
    "\n",
    "run code that displays the simulated moving CO$_2$ plume, stored the plume data in SQL?? (TODO)"
   ]
  },
  {
   "cell_type": "markdown",
   "metadata": {
    "collapsed": false
   },
   "source": [
    "## Simulating the Sensor Measurement\n"
   ]
  },
  {
   "cell_type": "markdown",
   "metadata": {},
   "source": [
    "The sensor measures the travel time of a seismic signal from a source to a receiver.\n",
    "\n",
    "$$ y = Hx + v $$\n",
    "\n",
    "$x$ is the grid block value of CO$_2$ slowness, an idicator of how much CO$_2$ in a block. The product $Hx$ simulate the travel time measurements by integrating $x$ along a raypath, that is, we sum all the grid-block values of $x$ along the ray path weighted by ray path length within each block.\n",
    "\n",
    "The presence of CO$_2$ slows down the seismic signal and increases its travel time along a ray path. If the ray path does not intercepts the CO$_2$ plume, the travel time remains constant over time (Ray path 1), otherwise it tends to increase once the CO$_2$ plume intercepts the ray path (Ray path 2)."
   ]
  },
  {
   "cell_type": "markdown",
   "metadata": {
    "collapsed": false
   },
   "source": [
    "- Run animation/image of the ray path (shooting from one source and receiver) on top of a CO$_2$ plume and display the travel time changes over time. (TODO)\n",
    "- Show the time-series data (Path 1 and Path 2) at a receiver with and without noise.\n",
    "- Show the data at a certain time (move along a time axis)\n",
    "\n",
    "optional: run getraypath will give me all the index of the cells and the length of the ray path within each cell, this can help me compute the travel time along this particular ray path"
   ]
  },
  {
   "cell_type": "markdown",
   "metadata": {
    "collapsed": true
   },
   "source": [
    "## Kalman filtering"
   ]
  },
  {
   "cell_type": "markdown",
   "metadata": {},
   "source": [
    "### Implementing the Prediction Step\n",
    "\n",
    "$$ x_{k+1} = x_{k} + w_k $$\n",
    "\n",
    "Note here a simplified __Random Walk__ forecast model is used to substitute $f(x)$. The advantage of using a random walk forecast model is that now we are dealing with a linear instead of nonlinear filtering problem, and the computational cost is much lower as we don't need to evaluate $f(x)$. However, when $dt$ is very large, this random walk forecast model will give poor predictions, and the prediction error, i.e., $w_k$ cannot be well approximated as a zero mean Gaussian noise $\\approx N(0,Q)$. Therefore, the random walk forecast model is only useful when the measuremetns are sampled at a high frequency, and $Q$ has to be seclected to reflect the true model error. "
   ]
  },
  {
   "cell_type": "markdown",
   "metadata": {},
   "source": [
    "### Implementing the Update Step"
   ]
  },
  {
   "cell_type": "markdown",
   "metadata": {},
   "source": [
    "PREDICT:    x       var      y       UPDATE: x       var       y\n",
    "Fig: MSE vs time\n",
    "Fig: Data fitting, slope 45 degree indicates a perfect fit\n"
   ]
  },
  {
   "cell_type": "markdown",
   "metadata": {},
   "source": [
    "### Scalability\n",
    "KF has a quadratic cost, which means for a typical problem size of $10^6$ the Kalman filter will take $80$ days to solve. "
   ]
  },
  {
   "cell_type": "markdown",
   "metadata": {},
   "source": [
    "A table of running time and computational storage cost comparison between KF and HiKF"
   ]
  },
  {
   "cell_type": "markdown",
   "metadata": {},
   "source": [
    "### Filter design\n",
    "- Choose $Q$ that represents the model error\n",
    "- By choosing an appropriate $Q/R$ ratio to optimize the filter preformance "
   ]
  },
  {
   "cell_type": "code",
   "execution_count": null,
   "metadata": {
    "collapsed": true
   },
   "outputs": [],
   "source": []
  }
 ],
 "metadata": {
  "kernelspec": {
   "display_name": "Python 2",
   "language": "python",
   "name": "python2"
  },
  "language_info": {
   "codemirror_mode": {
    "name": "ipython",
    "version": 2
   },
   "file_extension": ".py",
   "mimetype": "text/x-python",
   "name": "python",
   "nbconvert_exporter": "python",
   "pygments_lexer": "ipython2",
   "version": "2.7.10"
  }
 },
 "nbformat": 4,
 "nbformat_minor": 0
}
